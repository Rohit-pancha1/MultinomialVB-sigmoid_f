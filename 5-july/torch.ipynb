{
 "cells": [
  {
   "cell_type": "code",
   "execution_count": 1,
   "id": "81372f64-d5cf-4419-9426-078f63aac2cb",
   "metadata": {},
   "outputs": [],
   "source": [
    "import numpy as np\n",
    "import torch.nn as nn\n",
    "import torch"
   ]
  },
  {
   "cell_type": "code",
   "execution_count": 2,
   "id": "e0755e11-1a53-4080-8bf1-60e53f3b753d",
   "metadata": {},
   "outputs": [
    {
     "name": "stdout",
     "output_type": "stream",
     "text": [
      "Softmax1 outputs: [0.05948688 0.1617021  0.43955189 0.07265744 0.2666017 ]\n"
     ]
    }
   ],
   "source": [
    "def softmax1(x):\n",
    "    return np.exp(x)/ np.sum(np.exp(x))\n",
    "\n",
    "x= np.array([2,3,4,2.2,3.5])\n",
    "output =softmax1(x)\n",
    "print(\"Softmax1 outputs:\", output)"
   ]
  },
  {
   "cell_type": "code",
   "execution_count": 3,
   "id": "ae978c1e-b599-4efa-859c-6031a546c71e",
   "metadata": {},
   "outputs": [
    {
     "data": {
      "text/plain": [
       "tensor([2.0000, 3.0000, 4.0000, 2.2000, 3.5000], dtype=torch.float64)"
      ]
     },
     "execution_count": 3,
     "metadata": {},
     "output_type": "execute_result"
    }
   ],
   "source": [
    "y = torch.tensor(x)\n",
    "y"
   ]
  },
  {
   "cell_type": "code",
   "execution_count": 4,
   "id": "1300a9bf-e84c-4bcd-8403-46d1a7559c54",
   "metadata": {},
   "outputs": [
    {
     "data": {
      "text/plain": [
       "tensor([0.0595, 0.1617, 0.4396, 0.0727, 0.2666], dtype=torch.float64)"
      ]
     },
     "execution_count": 4,
     "metadata": {},
     "output_type": "execute_result"
    }
   ],
   "source": [
    "output = torch.softmax(y, dim =0)\n",
    "output"
   ]
  },
  {
   "cell_type": "code",
   "execution_count": 5,
   "id": "2e6d6345-b02e-4d77-828f-54951d65f80c",
   "metadata": {},
   "outputs": [
    {
     "data": {
      "text/plain": [
       "tensor([0.8808, 0.9526, 0.9820, 0.9002, 0.9707], dtype=torch.float64)"
      ]
     },
     "execution_count": 5,
     "metadata": {},
     "output_type": "execute_result"
    }
   ],
   "source": [
    "torch.sigmoid(y)"
   ]
  },
  {
   "cell_type": "code",
   "execution_count": 6,
   "id": "89cbb230-3c59-4595-868e-d5cbceebb74f",
   "metadata": {},
   "outputs": [
    {
     "data": {
      "text/plain": [
       "tensor([2.0000, 3.0000, 4.0000, 2.2000, 3.5000], dtype=torch.float64)"
      ]
     },
     "execution_count": 6,
     "metadata": {},
     "output_type": "execute_result"
    }
   ],
   "source": [
    "torch.relu(y)"
   ]
  },
  {
   "cell_type": "code",
   "execution_count": 7,
   "id": "3eece5b7-b39c-4724-899d-01f09db4b22d",
   "metadata": {},
   "outputs": [
    {
     "data": {
      "text/plain": [
       "tensor([0.9640, 0.9951, 0.9993, 0.9757, 0.9982], dtype=torch.float64)"
      ]
     },
     "execution_count": 7,
     "metadata": {},
     "output_type": "execute_result"
    }
   ],
   "source": [
    "torch.tanh(y)"
   ]
  },
  {
   "cell_type": "code",
   "execution_count": null,
   "id": "185583f6-39c9-419e-b59b-b031310051f9",
   "metadata": {},
   "outputs": [],
   "source": []
  }
 ],
 "metadata": {
  "kernelspec": {
   "display_name": "Python 3 (ipykernel)",
   "language": "python",
   "name": "python3"
  },
  "language_info": {
   "codemirror_mode": {
    "name": "ipython",
    "version": 3
   },
   "file_extension": ".py",
   "mimetype": "text/x-python",
   "name": "python",
   "nbconvert_exporter": "python",
   "pygments_lexer": "ipython3",
   "version": "3.11.5"
  }
 },
 "nbformat": 4,
 "nbformat_minor": 5
}
